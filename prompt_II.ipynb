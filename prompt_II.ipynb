{
 "cells": [
  {
   "cell_type": "markdown",
   "metadata": {},
   "source": [
    "# What drives the price of a car?\n",
    "\n",
    "![](images/kurt.jpeg)"
   ]
  },
  {
   "cell_type": "markdown",
   "metadata": {},
   "source": [
    "**OVERVIEW**\n",
    "\n",
    "In this application, you will explore a dataset from kaggle. The original dataset contained information on 3 million used cars. The provided dataset contains information on 426K cars to ensure speed of processing.  Your goal is to understand what factors make a car more or less expensive.  As a result of your analysis, you should provide clear recommendations to your client -- a used car dealership -- as to what consumers value in a used car."
   ]
  },
  {
   "cell_type": "markdown",
   "metadata": {},
   "source": [
    "### CRISP-DM Framework\n",
    "\n",
    "<center>\n",
    "    <img src = images/crisp.png width = 50%/>\n",
    "</center>\n",
    "\n",
    "\n",
    "To frame the task, throughout our practical applications we will refer back to a standard process in industry for data projects called CRISP-DM.  This process provides a framework for working through a data problem.  Your first step in this application will be to read through a brief overview of CRISP-DM [here](https://mo-pcco.s3.us-east-1.amazonaws.com/BH-PCMLAI/module_11/readings_starter.zip).  After reading the overview, answer the questions below."
   ]
  },
  {
   "cell_type": "markdown",
   "metadata": {},
   "source": [
    "### Business Understanding\n",
    "\n",
    "From a business perspective, we are tasked with identifying key drivers for used car prices.  In the CRISP-DM overview, we are asked to convert this business framing to a data problem definition.  Using a few sentences, reframe the task as a data task with the appropriate technical vocabulary. "
   ]
  },
  {
   "cell_type": "markdown",
   "source": [
    "- Business Objective (1-2 sentences): Understanding what factors drive the price of a used car.Segmenting the market based on the price of the car and the features of the car."
   ],
   "metadata": {
    "collapsed": false
   }
  },
  {
   "cell_type": "markdown",
   "source": [
    "- Assess Situation: Recent sales to assess the current situation of the market. Understand the current market and the current prices of used cars."
   ],
   "metadata": {
    "collapsed": false
   }
  },
  {
   "cell_type": "markdown",
   "source": [
    "- Determine Data Science Goals: Identify opportunities to improve the company's marketing and sales processes    "
   ],
   "metadata": {
    "collapsed": false
   }
  },
  {
   "cell_type": "markdown",
   "source": [
    "- Produce Project Plan: Identify the data that is needed to answer the business quest. Identify the resources needed to complete the project. Identify the timeline for the project.Develope a risk assessment for the project."
   ],
   "metadata": {
    "collapsed": false
   }
  },
  {
   "cell_type": "markdown",
   "metadata": {},
   "source": [
    "### Data Understanding\n",
    "\n",
    "After considering the business understanding, we want to get familiar with our data.  Write down some steps that you would take to get to know the dataset and identify any quality issues within.  Take time to get to know the dataset and explore what information it contains and how this could be used to inform your business understanding."
   ]
  },
  {
   "cell_type": "markdown",
   "source": [
    "- Collect Initial Data: Collect the data from the source."
   ],
   "metadata": {
    "collapsed": false
   }
  },
  {
   "cell_type": "markdown",
   "source": [
    "- Describe Data: Describe the data and the features of the data."
   ],
   "metadata": {
    "collapsed": false
   }
  },
  {
   "cell_type": "markdown",
   "source": [
    "- Explore Data: Explore the data to understand the data and the features of the data. look for key features that can help in achieving the business objective."
   ],
   "metadata": {
    "collapsed": false
   }
  },
  {
   "cell_type": "markdown",
   "source": [
    "- Verify Data Quality: Verify the quality of the data looking at the missing values, the outliers, and the data types."
   ],
   "metadata": {
    "collapsed": false
   }
  },
  {
   "cell_type": "markdown",
   "metadata": {},
   "source": [
    "### Data Preparation\n",
    "\n",
    "After our initial exploration and fine tuning of the business understanding, it is time to construct our final dataset prior to modeling.  Here, we want to make sure to handle any integrity issues and cleaning, the engineering of new features, any transformations that we believe should happen (scaling, logarithms, normalization, etc.), and general preparation for modeling with `sklearn`. "
   ]
  },
  {
   "cell_type": "markdown",
   "source": [
    "- Select Data: Select the data that is needed to answer the business question. We may need to drop the features that may not help in answering the business question."
   ],
   "metadata": {
    "collapsed": false
   }
  },
  {
   "cell_type": "markdown",
   "source": [
    "- Cleaning Data: Make sure that data is complete and that there are no missing values. Make sure that the data is in the correct format."
   ],
   "metadata": {
    "collapsed": false
   }
  },
  {
   "cell_type": "markdown",
   "source": [
    "- Construct Data: Create new features that may help in answering the business question.This may include creating dummy variables for categorical features using one hot encoding or feature engineering."
   ],
   "metadata": {
    "collapsed": false
   }
  },
  {
   "cell_type": "markdown",
   "source": [
    "- Integrate Data: Merge the data from different sources if needed."
   ],
   "metadata": {
    "collapsed": false
   }
  },
  {
   "cell_type": "markdown",
   "source": [
    "- Format Data: Make sure that the data is in the correct format for the model.Check if standard scaling or normalization is needed or binarization is needed."
   ],
   "metadata": {
    "collapsed": false
   }
  },
  {
   "cell_type": "markdown",
   "metadata": {},
   "source": [
    "### Modeling\n",
    "\n",
    "With your (almost?) final dataset in hand, it is now time to build some models.  Here, you should build a number of different regression models with the price as the target.  In building your models, you should explore different parameters and be sure to cross-validate your findings."
   ]
  },
  {
   "cell_type": "code",
   "execution_count": 1,
   "metadata": {
    "ExecuteTime": {
     "end_time": "2023-10-26T03:11:31.765956700Z",
     "start_time": "2023-10-26T03:11:30.911434900Z"
    }
   },
   "outputs": [],
   "source": [
    "import pandas as pd\n",
    "import scipy as sp\n",
    "import numpy as np\n",
    "from sklearn.linear_model import Ridge\n",
    "from sklearn.compose import TransformedTargetRegressor\n",
    "from sklearn.pipeline import make_pipeline\n",
    "from sklearn.preprocessing import OneHotEncoder\n",
    "from sklearn.compose import make_column_transformer\n",
    "import seaborn as sns\n",
    "from sklearn.model_selection import train_test_split"
   ]
  },
  {
   "cell_type": "code",
   "execution_count": 2,
   "metadata": {
    "ExecuteTime": {
     "end_time": "2023-10-26T03:11:32.524957300Z",
     "start_time": "2023-10-26T03:11:31.734433300Z"
    }
   },
   "outputs": [],
   "source": [
    "vehicles = pd.read_csv('data/vehicles.csv')"
   ]
  },
  {
   "cell_type": "code",
   "execution_count": 3,
   "metadata": {
    "ExecuteTime": {
     "end_time": "2023-10-26T03:11:34.165018600Z",
     "start_time": "2023-10-26T03:11:34.138904400Z"
    }
   },
   "outputs": [
    {
     "data": {
      "text/plain": "           id                  region  price  year manufacturer model  \\\n0  7222695916                prescott   6000   NaN          NaN   NaN   \n1  7218891961            fayetteville  11900   NaN          NaN   NaN   \n2  7221797935            florida keys  21000   NaN          NaN   NaN   \n3  7222270760  worcester / central MA   1500   NaN          NaN   NaN   \n4  7210384030              greensboro   4900   NaN          NaN   NaN   \n\n  condition cylinders fuel  odometer title_status transmission  VIN drive  \\\n0       NaN       NaN  NaN       NaN          NaN          NaN  NaN   NaN   \n1       NaN       NaN  NaN       NaN          NaN          NaN  NaN   NaN   \n2       NaN       NaN  NaN       NaN          NaN          NaN  NaN   NaN   \n3       NaN       NaN  NaN       NaN          NaN          NaN  NaN   NaN   \n4       NaN       NaN  NaN       NaN          NaN          NaN  NaN   NaN   \n\n  size type paint_color state  \n0  NaN  NaN         NaN    az  \n1  NaN  NaN         NaN    ar  \n2  NaN  NaN         NaN    fl  \n3  NaN  NaN         NaN    ma  \n4  NaN  NaN         NaN    nc  ",
      "text/html": "<div>\n<style scoped>\n    .dataframe tbody tr th:only-of-type {\n        vertical-align: middle;\n    }\n\n    .dataframe tbody tr th {\n        vertical-align: top;\n    }\n\n    .dataframe thead th {\n        text-align: right;\n    }\n</style>\n<table border=\"1\" class=\"dataframe\">\n  <thead>\n    <tr style=\"text-align: right;\">\n      <th></th>\n      <th>id</th>\n      <th>region</th>\n      <th>price</th>\n      <th>year</th>\n      <th>manufacturer</th>\n      <th>model</th>\n      <th>condition</th>\n      <th>cylinders</th>\n      <th>fuel</th>\n      <th>odometer</th>\n      <th>title_status</th>\n      <th>transmission</th>\n      <th>VIN</th>\n      <th>drive</th>\n      <th>size</th>\n      <th>type</th>\n      <th>paint_color</th>\n      <th>state</th>\n    </tr>\n  </thead>\n  <tbody>\n    <tr>\n      <th>0</th>\n      <td>7222695916</td>\n      <td>prescott</td>\n      <td>6000</td>\n      <td>NaN</td>\n      <td>NaN</td>\n      <td>NaN</td>\n      <td>NaN</td>\n      <td>NaN</td>\n      <td>NaN</td>\n      <td>NaN</td>\n      <td>NaN</td>\n      <td>NaN</td>\n      <td>NaN</td>\n      <td>NaN</td>\n      <td>NaN</td>\n      <td>NaN</td>\n      <td>NaN</td>\n      <td>az</td>\n    </tr>\n    <tr>\n      <th>1</th>\n      <td>7218891961</td>\n      <td>fayetteville</td>\n      <td>11900</td>\n      <td>NaN</td>\n      <td>NaN</td>\n      <td>NaN</td>\n      <td>NaN</td>\n      <td>NaN</td>\n      <td>NaN</td>\n      <td>NaN</td>\n      <td>NaN</td>\n      <td>NaN</td>\n      <td>NaN</td>\n      <td>NaN</td>\n      <td>NaN</td>\n      <td>NaN</td>\n      <td>NaN</td>\n      <td>ar</td>\n    </tr>\n    <tr>\n      <th>2</th>\n      <td>7221797935</td>\n      <td>florida keys</td>\n      <td>21000</td>\n      <td>NaN</td>\n      <td>NaN</td>\n      <td>NaN</td>\n      <td>NaN</td>\n      <td>NaN</td>\n      <td>NaN</td>\n      <td>NaN</td>\n      <td>NaN</td>\n      <td>NaN</td>\n      <td>NaN</td>\n      <td>NaN</td>\n      <td>NaN</td>\n      <td>NaN</td>\n      <td>NaN</td>\n      <td>fl</td>\n    </tr>\n    <tr>\n      <th>3</th>\n      <td>7222270760</td>\n      <td>worcester / central MA</td>\n      <td>1500</td>\n      <td>NaN</td>\n      <td>NaN</td>\n      <td>NaN</td>\n      <td>NaN</td>\n      <td>NaN</td>\n      <td>NaN</td>\n      <td>NaN</td>\n      <td>NaN</td>\n      <td>NaN</td>\n      <td>NaN</td>\n      <td>NaN</td>\n      <td>NaN</td>\n      <td>NaN</td>\n      <td>NaN</td>\n      <td>ma</td>\n    </tr>\n    <tr>\n      <th>4</th>\n      <td>7210384030</td>\n      <td>greensboro</td>\n      <td>4900</td>\n      <td>NaN</td>\n      <td>NaN</td>\n      <td>NaN</td>\n      <td>NaN</td>\n      <td>NaN</td>\n      <td>NaN</td>\n      <td>NaN</td>\n      <td>NaN</td>\n      <td>NaN</td>\n      <td>NaN</td>\n      <td>NaN</td>\n      <td>NaN</td>\n      <td>NaN</td>\n      <td>NaN</td>\n      <td>nc</td>\n    </tr>\n  </tbody>\n</table>\n</div>"
     },
     "execution_count": 3,
     "metadata": {},
     "output_type": "execute_result"
    }
   ],
   "source": [
    "vehicles.head()"
   ]
  },
  {
   "cell_type": "code",
   "execution_count": 4,
   "metadata": {
    "ExecuteTime": {
     "end_time": "2023-10-26T03:11:36.921664400Z",
     "start_time": "2023-10-26T03:11:36.749700100Z"
    }
   },
   "outputs": [
    {
     "name": "stdout",
     "output_type": "stream",
     "text": [
      "id              0\n",
      "region          0\n",
      "price           0\n",
      "year            0\n",
      "manufacturer    0\n",
      "model           0\n",
      "condition       0\n",
      "cylinders       0\n",
      "fuel            0\n",
      "odometer        0\n",
      "title_status    0\n",
      "transmission    0\n",
      "VIN             0\n",
      "drive           0\n",
      "size            0\n",
      "type            0\n",
      "paint_color     0\n",
      "state           0\n",
      "dtype: int64\n"
     ]
    }
   ],
   "source": [
    "vehicles = vehicles.dropna()\n",
    "# vehicles = vehicles.dropna(axis=0, how='any', subset=['price'])\n",
    "vehicles.drop(vehicles[vehicles['price'] ==0].index, inplace = True)\n",
    "vehicles['condition'].replace('salvage', 'condition_salvage', inplace=True)\n",
    "print(vehicles.isna().sum())"
   ]
  },
  {
   "cell_type": "code",
   "execution_count": 5,
   "outputs": [
    {
     "data": {
      "text/plain": "    title_status  odometer  condition  year  price\n215        clean  155000.0  excellent  2002   4000\n219        clean  110661.0       fair  1995   2500\n268        clean   56700.0  excellent  2008   9000\n337        clean  164000.0  excellent  2011   8950\n338        clean   88100.0       fair  1972   4000",
      "text/html": "<div>\n<style scoped>\n    .dataframe tbody tr th:only-of-type {\n        vertical-align: middle;\n    }\n\n    .dataframe tbody tr th {\n        vertical-align: top;\n    }\n\n    .dataframe thead th {\n        text-align: right;\n    }\n</style>\n<table border=\"1\" class=\"dataframe\">\n  <thead>\n    <tr style=\"text-align: right;\">\n      <th></th>\n      <th>title_status</th>\n      <th>odometer</th>\n      <th>condition</th>\n      <th>year</th>\n      <th>price</th>\n    </tr>\n  </thead>\n  <tbody>\n    <tr>\n      <th>215</th>\n      <td>clean</td>\n      <td>155000.0</td>\n      <td>excellent</td>\n      <td>2002</td>\n      <td>4000</td>\n    </tr>\n    <tr>\n      <th>219</th>\n      <td>clean</td>\n      <td>110661.0</td>\n      <td>fair</td>\n      <td>1995</td>\n      <td>2500</td>\n    </tr>\n    <tr>\n      <th>268</th>\n      <td>clean</td>\n      <td>56700.0</td>\n      <td>excellent</td>\n      <td>2008</td>\n      <td>9000</td>\n    </tr>\n    <tr>\n      <th>337</th>\n      <td>clean</td>\n      <td>164000.0</td>\n      <td>excellent</td>\n      <td>2011</td>\n      <td>8950</td>\n    </tr>\n    <tr>\n      <th>338</th>\n      <td>clean</td>\n      <td>88100.0</td>\n      <td>fair</td>\n      <td>1972</td>\n      <td>4000</td>\n    </tr>\n  </tbody>\n</table>\n</div>"
     },
     "execution_count": 5,
     "metadata": {},
     "output_type": "execute_result"
    }
   ],
   "source": [
    "df = vehicles[['title_status','odometer','condition' ,'year','price']].dropna(axis=0, subset=('title_status','odometer','condition' ,'year','price'))\n",
    "df['year'] = df['year'].astype(int)\n",
    "df.head()"
   ],
   "metadata": {
    "collapsed": false,
    "ExecuteTime": {
     "end_time": "2023-10-26T03:11:37.623488100Z",
     "start_time": "2023-10-26T03:11:37.608837200Z"
    }
   }
  },
  {
   "cell_type": "code",
   "execution_count": 6,
   "outputs": [
    {
     "name": "stdout",
     "output_type": "stream",
     "text": [
      "<class 'pandas.core.frame.DataFrame'>\n",
      "Index: 32496 entries, 215 to 426833\n",
      "Data columns (total 5 columns):\n",
      " #   Column        Non-Null Count  Dtype  \n",
      "---  ------        --------------  -----  \n",
      " 0   title_status  32496 non-null  object \n",
      " 1   odometer      32496 non-null  float64\n",
      " 2   condition     32496 non-null  object \n",
      " 3   year          32496 non-null  int32  \n",
      " 4   price         32496 non-null  int64  \n",
      "dtypes: float64(1), int32(1), int64(1), object(2)\n",
      "memory usage: 1.4+ MB\n"
     ]
    }
   ],
   "source": [
    "df.info()"
   ],
   "metadata": {
    "collapsed": false,
    "ExecuteTime": {
     "end_time": "2023-10-26T03:11:38.636571800Z",
     "start_time": "2023-10-26T03:11:38.618619700Z"
    }
   }
  },
  {
   "cell_type": "code",
   "execution_count": 7,
   "outputs": [
    {
     "data": {
      "text/plain": "Empty DataFrame\nColumns: [title_status, odometer, condition, year, price]\nIndex: []",
      "text/html": "<div>\n<style scoped>\n    .dataframe tbody tr th:only-of-type {\n        vertical-align: middle;\n    }\n\n    .dataframe tbody tr th {\n        vertical-align: top;\n    }\n\n    .dataframe thead th {\n        text-align: right;\n    }\n</style>\n<table border=\"1\" class=\"dataframe\">\n  <thead>\n    <tr style=\"text-align: right;\">\n      <th></th>\n      <th>title_status</th>\n      <th>odometer</th>\n      <th>condition</th>\n      <th>year</th>\n      <th>price</th>\n    </tr>\n  </thead>\n  <tbody>\n  </tbody>\n</table>\n</div>"
     },
     "execution_count": 7,
     "metadata": {},
     "output_type": "execute_result"
    }
   ],
   "source": [
    "df[df.isna().any(axis=1)]"
   ],
   "metadata": {
    "collapsed": false,
    "ExecuteTime": {
     "end_time": "2023-10-26T03:11:39.382308700Z",
     "start_time": "2023-10-26T03:11:39.350159200Z"
    }
   }
  },
  {
   "cell_type": "code",
   "execution_count": 8,
   "outputs": [
    {
     "data": {
      "text/plain": "title_status\nclean         31321\nrebuilt         786\nsalvage         239\nlien            134\nmissing          14\nparts only        2\nName: count, dtype: int64"
     },
     "execution_count": 8,
     "metadata": {},
     "output_type": "execute_result"
    }
   ],
   "source": [
    "df['title_status'].value_counts()"
   ],
   "metadata": {
    "collapsed": false,
    "ExecuteTime": {
     "end_time": "2023-10-26T03:11:40.194918200Z",
     "start_time": "2023-10-26T03:11:40.189314400Z"
    }
   }
  },
  {
   "cell_type": "code",
   "execution_count": 9,
   "outputs": [
    {
     "data": {
      "text/plain": "condition\nexcellent            18259\ngood                  9772\nlike new              3772\nfair                   488\nnew                    169\ncondition_salvage       36\nName: count, dtype: int64"
     },
     "execution_count": 9,
     "metadata": {},
     "output_type": "execute_result"
    }
   ],
   "source": [
    "df['condition'].value_counts()"
   ],
   "metadata": {
    "collapsed": false,
    "ExecuteTime": {
     "end_time": "2023-10-26T03:11:41.177901100Z",
     "start_time": "2023-10-26T03:11:41.174331600Z"
    }
   }
  },
  {
   "cell_type": "code",
   "execution_count": 10,
   "outputs": [
    {
     "data": {
      "text/plain": "   odometer     price\n0  0.449957 -0.982925\n1  0.016406 -1.096397\n2 -0.511230 -0.604687\n3  0.537960 -0.608470\n4 -0.204198 -0.982925",
      "text/html": "<div>\n<style scoped>\n    .dataframe tbody tr th:only-of-type {\n        vertical-align: middle;\n    }\n\n    .dataframe tbody tr th {\n        vertical-align: top;\n    }\n\n    .dataframe thead th {\n        text-align: right;\n    }\n</style>\n<table border=\"1\" class=\"dataframe\">\n  <thead>\n    <tr style=\"text-align: right;\">\n      <th></th>\n      <th>odometer</th>\n      <th>price</th>\n    </tr>\n  </thead>\n  <tbody>\n    <tr>\n      <th>0</th>\n      <td>0.449957</td>\n      <td>-0.982925</td>\n    </tr>\n    <tr>\n      <th>1</th>\n      <td>0.016406</td>\n      <td>-1.096397</td>\n    </tr>\n    <tr>\n      <th>2</th>\n      <td>-0.511230</td>\n      <td>-0.604687</td>\n    </tr>\n    <tr>\n      <th>3</th>\n      <td>0.537960</td>\n      <td>-0.608470</td>\n    </tr>\n    <tr>\n      <th>4</th>\n      <td>-0.204198</td>\n      <td>-0.982925</td>\n    </tr>\n  </tbody>\n</table>\n</div>"
     },
     "execution_count": 10,
     "metadata": {},
     "output_type": "execute_result"
    }
   ],
   "source": [
    "from sklearn.preprocessing import StandardScaler\n",
    "scaler = StandardScaler()\n",
    "ct = make_column_transformer(\n",
    "    (scaler, [\"odometer\",\"price\"])\n",
    ")\n",
    "# Add the column transformer to the dataframe\n",
    "transformed_data=pd.DataFrame(ct.fit_transform(df),columns=['odometer','price'])\n",
    "transformed_data.head()"
   ],
   "metadata": {
    "collapsed": false,
    "ExecuteTime": {
     "end_time": "2023-10-26T03:11:41.991729100Z",
     "start_time": "2023-10-26T03:11:41.970359500Z"
    }
   }
  },
  {
   "cell_type": "code",
   "execution_count": 11,
   "outputs": [
    {
     "name": "stdout",
     "output_type": "stream",
     "text": [
      "odometer    0\n",
      "price       0\n",
      "dtype: int64\n"
     ]
    }
   ],
   "source": [
    "print(transformed_data.isna().sum())"
   ],
   "metadata": {
    "collapsed": false,
    "ExecuteTime": {
     "end_time": "2023-10-26T03:11:42.665332700Z",
     "start_time": "2023-10-26T03:11:42.659335400Z"
    }
   }
  },
  {
   "cell_type": "code",
   "execution_count": 12,
   "outputs": [],
   "source": [
    "df.drop(['odometer','price'], axis=1, inplace=True)\n",
    "df.reset_index(drop=True, inplace=True)\n",
    "transformed_data.reset_index(drop=True, inplace=True)\n",
    "df = pd.concat([df, transformed_data], axis=1)"
   ],
   "metadata": {
    "collapsed": false,
    "ExecuteTime": {
     "end_time": "2023-10-26T03:11:43.642311900Z",
     "start_time": "2023-10-26T03:11:43.636315900Z"
    }
   }
  },
  {
   "cell_type": "code",
   "execution_count": 13,
   "outputs": [
    {
     "name": "stdout",
     "output_type": "stream",
     "text": [
      "<class 'pandas.core.frame.DataFrame'>\n",
      "RangeIndex: 32496 entries, 0 to 32495\n",
      "Data columns (total 5 columns):\n",
      " #   Column        Non-Null Count  Dtype  \n",
      "---  ------        --------------  -----  \n",
      " 0   title_status  32496 non-null  object \n",
      " 1   condition     32496 non-null  object \n",
      " 2   year          32496 non-null  int32  \n",
      " 3   odometer      32496 non-null  float64\n",
      " 4   price         32496 non-null  float64\n",
      "dtypes: float64(2), int32(1), object(2)\n",
      "memory usage: 1.1+ MB\n"
     ]
    }
   ],
   "source": [
    "df.info()"
   ],
   "metadata": {
    "collapsed": false,
    "ExecuteTime": {
     "end_time": "2023-10-26T03:11:44.580079Z",
     "start_time": "2023-10-26T03:11:44.551368500Z"
    }
   }
  },
  {
   "cell_type": "code",
   "execution_count": 14,
   "outputs": [
    {
     "data": {
      "text/plain": "  title_status  condition  year  odometer     price\n0        clean  excellent  2002  0.449957 -0.982925\n1        clean       fair  1995  0.016406 -1.096397\n2        clean  excellent  2008 -0.511230 -0.604687\n3        clean  excellent  2011  0.537960 -0.608470\n4        clean       fair  1972 -0.204198 -0.982925",
      "text/html": "<div>\n<style scoped>\n    .dataframe tbody tr th:only-of-type {\n        vertical-align: middle;\n    }\n\n    .dataframe tbody tr th {\n        vertical-align: top;\n    }\n\n    .dataframe thead th {\n        text-align: right;\n    }\n</style>\n<table border=\"1\" class=\"dataframe\">\n  <thead>\n    <tr style=\"text-align: right;\">\n      <th></th>\n      <th>title_status</th>\n      <th>condition</th>\n      <th>year</th>\n      <th>odometer</th>\n      <th>price</th>\n    </tr>\n  </thead>\n  <tbody>\n    <tr>\n      <th>0</th>\n      <td>clean</td>\n      <td>excellent</td>\n      <td>2002</td>\n      <td>0.449957</td>\n      <td>-0.982925</td>\n    </tr>\n    <tr>\n      <th>1</th>\n      <td>clean</td>\n      <td>fair</td>\n      <td>1995</td>\n      <td>0.016406</td>\n      <td>-1.096397</td>\n    </tr>\n    <tr>\n      <th>2</th>\n      <td>clean</td>\n      <td>excellent</td>\n      <td>2008</td>\n      <td>-0.511230</td>\n      <td>-0.604687</td>\n    </tr>\n    <tr>\n      <th>3</th>\n      <td>clean</td>\n      <td>excellent</td>\n      <td>2011</td>\n      <td>0.537960</td>\n      <td>-0.608470</td>\n    </tr>\n    <tr>\n      <th>4</th>\n      <td>clean</td>\n      <td>fair</td>\n      <td>1972</td>\n      <td>-0.204198</td>\n      <td>-0.982925</td>\n    </tr>\n  </tbody>\n</table>\n</div>"
     },
     "execution_count": 14,
     "metadata": {},
     "output_type": "execute_result"
    }
   ],
   "source": [
    "df.head()"
   ],
   "metadata": {
    "collapsed": false,
    "ExecuteTime": {
     "end_time": "2023-10-26T03:11:45.379885700Z",
     "start_time": "2023-10-26T03:11:45.362669100Z"
    }
   }
  },
  {
   "cell_type": "code",
   "execution_count": 15,
   "outputs": [
    {
     "data": {
      "text/plain": "   clean  lien  missing  parts only  rebuilt  salvage  condition_salvage  \\\n0    1.0   0.0      0.0         0.0      0.0      0.0                0.0   \n1    1.0   0.0      0.0         0.0      0.0      0.0                0.0   \n2    1.0   0.0      0.0         0.0      0.0      0.0                0.0   \n3    1.0   0.0      0.0         0.0      0.0      0.0                0.0   \n4    1.0   0.0      0.0         0.0      0.0      0.0                0.0   \n\n   excellent  fair  good  like new  new    year  odometer     price  \n0        1.0   0.0   0.0       0.0  0.0  2002.0  0.449957 -0.982925  \n1        0.0   1.0   0.0       0.0  0.0  1995.0  0.016406 -1.096397  \n2        1.0   0.0   0.0       0.0  0.0  2008.0 -0.511230 -0.604687  \n3        1.0   0.0   0.0       0.0  0.0  2011.0  0.537960 -0.608470  \n4        0.0   1.0   0.0       0.0  0.0  1972.0 -0.204198 -0.982925  ",
      "text/html": "<div>\n<style scoped>\n    .dataframe tbody tr th:only-of-type {\n        vertical-align: middle;\n    }\n\n    .dataframe tbody tr th {\n        vertical-align: top;\n    }\n\n    .dataframe thead th {\n        text-align: right;\n    }\n</style>\n<table border=\"1\" class=\"dataframe\">\n  <thead>\n    <tr style=\"text-align: right;\">\n      <th></th>\n      <th>clean</th>\n      <th>lien</th>\n      <th>missing</th>\n      <th>parts only</th>\n      <th>rebuilt</th>\n      <th>salvage</th>\n      <th>condition_salvage</th>\n      <th>excellent</th>\n      <th>fair</th>\n      <th>good</th>\n      <th>like new</th>\n      <th>new</th>\n      <th>year</th>\n      <th>odometer</th>\n      <th>price</th>\n    </tr>\n  </thead>\n  <tbody>\n    <tr>\n      <th>0</th>\n      <td>1.0</td>\n      <td>0.0</td>\n      <td>0.0</td>\n      <td>0.0</td>\n      <td>0.0</td>\n      <td>0.0</td>\n      <td>0.0</td>\n      <td>1.0</td>\n      <td>0.0</td>\n      <td>0.0</td>\n      <td>0.0</td>\n      <td>0.0</td>\n      <td>2002.0</td>\n      <td>0.449957</td>\n      <td>-0.982925</td>\n    </tr>\n    <tr>\n      <th>1</th>\n      <td>1.0</td>\n      <td>0.0</td>\n      <td>0.0</td>\n      <td>0.0</td>\n      <td>0.0</td>\n      <td>0.0</td>\n      <td>0.0</td>\n      <td>0.0</td>\n      <td>1.0</td>\n      <td>0.0</td>\n      <td>0.0</td>\n      <td>0.0</td>\n      <td>1995.0</td>\n      <td>0.016406</td>\n      <td>-1.096397</td>\n    </tr>\n    <tr>\n      <th>2</th>\n      <td>1.0</td>\n      <td>0.0</td>\n      <td>0.0</td>\n      <td>0.0</td>\n      <td>0.0</td>\n      <td>0.0</td>\n      <td>0.0</td>\n      <td>1.0</td>\n      <td>0.0</td>\n      <td>0.0</td>\n      <td>0.0</td>\n      <td>0.0</td>\n      <td>2008.0</td>\n      <td>-0.511230</td>\n      <td>-0.604687</td>\n    </tr>\n    <tr>\n      <th>3</th>\n      <td>1.0</td>\n      <td>0.0</td>\n      <td>0.0</td>\n      <td>0.0</td>\n      <td>0.0</td>\n      <td>0.0</td>\n      <td>0.0</td>\n      <td>1.0</td>\n      <td>0.0</td>\n      <td>0.0</td>\n      <td>0.0</td>\n      <td>0.0</td>\n      <td>2011.0</td>\n      <td>0.537960</td>\n      <td>-0.608470</td>\n    </tr>\n    <tr>\n      <th>4</th>\n      <td>1.0</td>\n      <td>0.0</td>\n      <td>0.0</td>\n      <td>0.0</td>\n      <td>0.0</td>\n      <td>0.0</td>\n      <td>0.0</td>\n      <td>0.0</td>\n      <td>1.0</td>\n      <td>0.0</td>\n      <td>0.0</td>\n      <td>0.0</td>\n      <td>1972.0</td>\n      <td>-0.204198</td>\n      <td>-0.982925</td>\n    </tr>\n  </tbody>\n</table>\n</div>"
     },
     "execution_count": 15,
     "metadata": {},
     "output_type": "execute_result"
    }
   ],
   "source": [
    "ct = make_column_transformer(\n",
    "    (OneHotEncoder(), [\"title_status\",\"condition\"]),\n",
    "    remainder=\"passthrough\",\n",
    "    verbose_feature_names_out=True,\n",
    ")\n",
    "# Add the column transformer to the dataframe\n",
    "transformed_data=pd.DataFrame(ct.fit_transform(df),columns=ct.named_transformers_['onehotencoder'].categories_[0].tolist()+ct.named_transformers_['onehotencoder'].categories_[1].tolist()+['year','odometer','price'])\n",
    "transformed_data.head()"
   ],
   "metadata": {
    "collapsed": false,
    "ExecuteTime": {
     "end_time": "2023-10-26T03:11:46.436464Z",
     "start_time": "2023-10-26T03:11:46.378075200Z"
    }
   }
  },
  {
   "cell_type": "code",
   "execution_count": 16,
   "outputs": [
    {
     "name": "stdout",
     "output_type": "stream",
     "text": [
      "clean                0\n",
      "lien                 0\n",
      "missing              0\n",
      "parts only           0\n",
      "rebuilt              0\n",
      "salvage              0\n",
      "condition_salvage    0\n",
      "excellent            0\n",
      "fair                 0\n",
      "good                 0\n",
      "like new             0\n",
      "new                  0\n",
      "year                 0\n",
      "odometer             0\n",
      "price                0\n",
      "dtype: int64\n"
     ]
    }
   ],
   "source": [
    "print(transformed_data.isna().sum())"
   ],
   "metadata": {
    "collapsed": false,
    "ExecuteTime": {
     "end_time": "2023-10-26T03:11:47.473435900Z",
     "start_time": "2023-10-26T03:11:47.467769700Z"
    }
   }
  },
  {
   "cell_type": "code",
   "execution_count": 17,
   "outputs": [
    {
     "data": {
      "text/plain": "Empty DataFrame\nColumns: [clean, lien, missing, parts only, rebuilt, salvage, condition_salvage, excellent, fair, good, like new, new, year, odometer, price]\nIndex: []",
      "text/html": "<div>\n<style scoped>\n    .dataframe tbody tr th:only-of-type {\n        vertical-align: middle;\n    }\n\n    .dataframe tbody tr th {\n        vertical-align: top;\n    }\n\n    .dataframe thead th {\n        text-align: right;\n    }\n</style>\n<table border=\"1\" class=\"dataframe\">\n  <thead>\n    <tr style=\"text-align: right;\">\n      <th></th>\n      <th>clean</th>\n      <th>lien</th>\n      <th>missing</th>\n      <th>parts only</th>\n      <th>rebuilt</th>\n      <th>salvage</th>\n      <th>condition_salvage</th>\n      <th>excellent</th>\n      <th>fair</th>\n      <th>good</th>\n      <th>like new</th>\n      <th>new</th>\n      <th>year</th>\n      <th>odometer</th>\n      <th>price</th>\n    </tr>\n  </thead>\n  <tbody>\n  </tbody>\n</table>\n</div>"
     },
     "execution_count": 17,
     "metadata": {},
     "output_type": "execute_result"
    }
   ],
   "source": [
    "transformed_data[transformed_data.isna().any(axis=1)]"
   ],
   "metadata": {
    "collapsed": false,
    "ExecuteTime": {
     "end_time": "2023-10-26T03:11:48.475799300Z",
     "start_time": "2023-10-26T03:11:48.438315700Z"
    }
   }
  },
  {
   "cell_type": "markdown",
   "source": [
    "Sequential feature selection with validation error"
   ],
   "metadata": {
    "collapsed": false
   }
  },
  {
   "cell_type": "code",
   "execution_count": 18,
   "outputs": [],
   "source": [
    "X = transformed_data.drop(['price'], axis = 1)\n",
    "y = transformed_data['price']\n",
    "X_train, X_test, y_train, y_test = train_test_split(X, y,random_state=42)"
   ],
   "metadata": {
    "collapsed": false,
    "ExecuteTime": {
     "end_time": "2023-10-26T03:11:51.044454200Z",
     "start_time": "2023-10-26T03:11:51.024260300Z"
    }
   }
  },
  {
   "cell_type": "code",
   "execution_count": 19,
   "outputs": [
    {
     "data": {
      "text/plain": "   fair  like new    year\n0   0.0       0.0  2016.0\n1   1.0       0.0  2000.0\n2   0.0       0.0  2013.0\n3   0.0       0.0  2016.0\n4   0.0       0.0  2017.0",
      "text/html": "<div>\n<style scoped>\n    .dataframe tbody tr th:only-of-type {\n        vertical-align: middle;\n    }\n\n    .dataframe tbody tr th {\n        vertical-align: top;\n    }\n\n    .dataframe thead th {\n        text-align: right;\n    }\n</style>\n<table border=\"1\" class=\"dataframe\">\n  <thead>\n    <tr style=\"text-align: right;\">\n      <th></th>\n      <th>fair</th>\n      <th>like new</th>\n      <th>year</th>\n    </tr>\n  </thead>\n  <tbody>\n    <tr>\n      <th>0</th>\n      <td>0.0</td>\n      <td>0.0</td>\n      <td>2016.0</td>\n    </tr>\n    <tr>\n      <th>1</th>\n      <td>1.0</td>\n      <td>0.0</td>\n      <td>2000.0</td>\n    </tr>\n    <tr>\n      <th>2</th>\n      <td>0.0</td>\n      <td>0.0</td>\n      <td>2013.0</td>\n    </tr>\n    <tr>\n      <th>3</th>\n      <td>0.0</td>\n      <td>0.0</td>\n      <td>2016.0</td>\n    </tr>\n    <tr>\n      <th>4</th>\n      <td>0.0</td>\n      <td>0.0</td>\n      <td>2017.0</td>\n    </tr>\n  </tbody>\n</table>\n</div>"
     },
     "execution_count": 19,
     "metadata": {},
     "output_type": "execute_result"
    }
   ],
   "source": [
    "from sklearn.linear_model import LinearRegression\n",
    "from sklearn.feature_selection import SequentialFeatureSelector\n",
    "\n",
    "selector = SequentialFeatureSelector(LinearRegression(), n_features_to_select=3)\n",
    "best_features = selector.fit_transform(X_train, y_train)\n",
    "best_features_df = pd.DataFrame(best_features, columns = selector.get_feature_names_out())\n",
    "best_features_df.head()"
   ],
   "metadata": {
    "collapsed": false,
    "ExecuteTime": {
     "end_time": "2023-10-26T03:11:52.714782700Z",
     "start_time": "2023-10-26T03:11:51.769502100Z"
    }
   }
  },
  {
   "cell_type": "markdown",
   "source": [
    "Regularization -- taking all features into account"
   ],
   "metadata": {
    "collapsed": false
   }
  },
  {
   "cell_type": "code",
   "execution_count": 20,
   "outputs": [],
   "source": [
    "ridge_model = Ridge().fit(X_train, y_train)\n",
    "ridge_model_coefs = ridge_model.coef_"
   ],
   "metadata": {
    "collapsed": false,
    "ExecuteTime": {
     "end_time": "2023-10-26T03:11:53.473907300Z",
     "start_time": "2023-10-26T03:11:53.452156400Z"
    }
   }
  },
  {
   "cell_type": "code",
   "execution_count": 21,
   "outputs": [
    {
     "name": "stdout",
     "output_type": "stream",
     "text": [
      "Ridge Coefs: [-0.01  0.26  0.04  0.3  -0.15 -0.44 -0.35 -0.05 -0.47 -0.01  0.24  0.65\n",
      "  0.04 -0.2 ]\n"
     ]
    }
   ],
   "source": [
    "print(f'Ridge Coefs: {np.round(ridge_model_coefs, 2)}')"
   ],
   "metadata": {
    "collapsed": false,
    "ExecuteTime": {
     "end_time": "2023-10-26T03:11:54.193301400Z",
     "start_time": "2023-10-26T03:11:54.187083200Z"
    }
   }
  },
  {
   "cell_type": "code",
   "execution_count": 22,
   "outputs": [
    {
     "data": {
      "text/plain": "              feature     0.001       1.0      10.0     100.0\n0               clean -0.064238 -0.009759  0.053368  0.093128\n1                lien  0.212649  0.264117  0.297700  0.178495\n2             missing -0.011199  0.038902  0.052043  0.012133\n3          parts only  0.561292  0.296024  0.051416  0.004315\n4             rebuilt -0.207069 -0.152466 -0.088737 -0.044877\n5             salvage -0.491434 -0.436817 -0.365790 -0.243195\n6   condition_salvage -0.368027 -0.347504 -0.266958 -0.088808\n7           excellent -0.050629 -0.054008 -0.064385 -0.071902\n8                fair -0.471232 -0.473205 -0.470762 -0.380942\n9                good -0.011397 -0.014770 -0.024961 -0.031489\n10           like new  0.239881  0.236407  0.225148  0.209550\n11                new  0.661404  0.653080  0.601918  0.363591\n12               year  0.035237  0.035232  0.035270  0.035656\n13           odometer -0.197676 -0.197772 -0.198147 -0.199415",
      "text/html": "<div>\n<style scoped>\n    .dataframe tbody tr th:only-of-type {\n        vertical-align: middle;\n    }\n\n    .dataframe tbody tr th {\n        vertical-align: top;\n    }\n\n    .dataframe thead th {\n        text-align: right;\n    }\n</style>\n<table border=\"1\" class=\"dataframe\">\n  <thead>\n    <tr style=\"text-align: right;\">\n      <th></th>\n      <th>feature</th>\n      <th>0.001</th>\n      <th>1.0</th>\n      <th>10.0</th>\n      <th>100.0</th>\n    </tr>\n  </thead>\n  <tbody>\n    <tr>\n      <th>0</th>\n      <td>clean</td>\n      <td>-0.064238</td>\n      <td>-0.009759</td>\n      <td>0.053368</td>\n      <td>0.093128</td>\n    </tr>\n    <tr>\n      <th>1</th>\n      <td>lien</td>\n      <td>0.212649</td>\n      <td>0.264117</td>\n      <td>0.297700</td>\n      <td>0.178495</td>\n    </tr>\n    <tr>\n      <th>2</th>\n      <td>missing</td>\n      <td>-0.011199</td>\n      <td>0.038902</td>\n      <td>0.052043</td>\n      <td>0.012133</td>\n    </tr>\n    <tr>\n      <th>3</th>\n      <td>parts only</td>\n      <td>0.561292</td>\n      <td>0.296024</td>\n      <td>0.051416</td>\n      <td>0.004315</td>\n    </tr>\n    <tr>\n      <th>4</th>\n      <td>rebuilt</td>\n      <td>-0.207069</td>\n      <td>-0.152466</td>\n      <td>-0.088737</td>\n      <td>-0.044877</td>\n    </tr>\n    <tr>\n      <th>5</th>\n      <td>salvage</td>\n      <td>-0.491434</td>\n      <td>-0.436817</td>\n      <td>-0.365790</td>\n      <td>-0.243195</td>\n    </tr>\n    <tr>\n      <th>6</th>\n      <td>condition_salvage</td>\n      <td>-0.368027</td>\n      <td>-0.347504</td>\n      <td>-0.266958</td>\n      <td>-0.088808</td>\n    </tr>\n    <tr>\n      <th>7</th>\n      <td>excellent</td>\n      <td>-0.050629</td>\n      <td>-0.054008</td>\n      <td>-0.064385</td>\n      <td>-0.071902</td>\n    </tr>\n    <tr>\n      <th>8</th>\n      <td>fair</td>\n      <td>-0.471232</td>\n      <td>-0.473205</td>\n      <td>-0.470762</td>\n      <td>-0.380942</td>\n    </tr>\n    <tr>\n      <th>9</th>\n      <td>good</td>\n      <td>-0.011397</td>\n      <td>-0.014770</td>\n      <td>-0.024961</td>\n      <td>-0.031489</td>\n    </tr>\n    <tr>\n      <th>10</th>\n      <td>like new</td>\n      <td>0.239881</td>\n      <td>0.236407</td>\n      <td>0.225148</td>\n      <td>0.209550</td>\n    </tr>\n    <tr>\n      <th>11</th>\n      <td>new</td>\n      <td>0.661404</td>\n      <td>0.653080</td>\n      <td>0.601918</td>\n      <td>0.363591</td>\n    </tr>\n    <tr>\n      <th>12</th>\n      <td>year</td>\n      <td>0.035237</td>\n      <td>0.035232</td>\n      <td>0.035270</td>\n      <td>0.035656</td>\n    </tr>\n    <tr>\n      <th>13</th>\n      <td>odometer</td>\n      <td>-0.197676</td>\n      <td>-0.197772</td>\n      <td>-0.198147</td>\n      <td>-0.199415</td>\n    </tr>\n  </tbody>\n</table>\n</div>"
     },
     "execution_count": 22,
     "metadata": {},
     "output_type": "execute_result"
    }
   ],
   "source": [
    "alphas = [0.001, 1.0, 10.0, 100.0]\n",
    "coef_list = []\n",
    "coefs_df = pd.DataFrame()\n",
    "coefs_df =coefs_df.assign(feature=X_train.columns)\n",
    "for alpha in alphas:\n",
    "    ridge = Ridge(alpha = alpha)\n",
    "    ridge.fit(X_train, y_train)\n",
    "    coef_list.append(list(ridge.coef_))\n",
    "    coefs_df =coefs_df.assign(alpha=list(ridge.coef_))\n",
    "    coefs_df =coefs_df.rename(columns={\"alpha\":alpha})\n",
    "# len(coef_list)\n",
    "# print('For alpha = 100 we have the following coefficients:')\n",
    "# list(zip(X_train.columns, coef_list[-1]))\n",
    "coefs_df.head(20)"
   ],
   "metadata": {
    "collapsed": false,
    "ExecuteTime": {
     "end_time": "2023-10-26T03:11:54.997573900Z",
     "start_time": "2023-10-26T03:11:54.931147100Z"
    }
   }
  },
  {
   "cell_type": "markdown",
   "source": [
    "Let's check the importance of features using TransformedTargetRegressor and Permutation Importance"
   ],
   "metadata": {
    "collapsed": false
   }
  },
  {
   "cell_type": "code",
   "execution_count": 23,
   "outputs": [],
   "source": [
    "target_regressor_model = make_pipeline(\n",
    "    TransformedTargetRegressor(regressor=Ridge(alpha=10))\n",
    ")"
   ],
   "metadata": {
    "collapsed": false,
    "ExecuteTime": {
     "end_time": "2023-10-26T03:11:57.273001100Z",
     "start_time": "2023-10-26T03:11:57.268427900Z"
    }
   }
  },
  {
   "cell_type": "code",
   "execution_count": 24,
   "outputs": [
    {
     "data": {
      "text/plain": "Pipeline(steps=[('transformedtargetregressor',\n                 TransformedTargetRegressor(regressor=Ridge(alpha=10)))])",
      "text/html": "<style>#sk-container-id-1 {color: black;background-color: white;}#sk-container-id-1 pre{padding: 0;}#sk-container-id-1 div.sk-toggleable {background-color: white;}#sk-container-id-1 label.sk-toggleable__label {cursor: pointer;display: block;width: 100%;margin-bottom: 0;padding: 0.3em;box-sizing: border-box;text-align: center;}#sk-container-id-1 label.sk-toggleable__label-arrow:before {content: \"▸\";float: left;margin-right: 0.25em;color: #696969;}#sk-container-id-1 label.sk-toggleable__label-arrow:hover:before {color: black;}#sk-container-id-1 div.sk-estimator:hover label.sk-toggleable__label-arrow:before {color: black;}#sk-container-id-1 div.sk-toggleable__content {max-height: 0;max-width: 0;overflow: hidden;text-align: left;background-color: #f0f8ff;}#sk-container-id-1 div.sk-toggleable__content pre {margin: 0.2em;color: black;border-radius: 0.25em;background-color: #f0f8ff;}#sk-container-id-1 input.sk-toggleable__control:checked~div.sk-toggleable__content {max-height: 200px;max-width: 100%;overflow: auto;}#sk-container-id-1 input.sk-toggleable__control:checked~label.sk-toggleable__label-arrow:before {content: \"▾\";}#sk-container-id-1 div.sk-estimator input.sk-toggleable__control:checked~label.sk-toggleable__label {background-color: #d4ebff;}#sk-container-id-1 div.sk-label input.sk-toggleable__control:checked~label.sk-toggleable__label {background-color: #d4ebff;}#sk-container-id-1 input.sk-hidden--visually {border: 0;clip: rect(1px 1px 1px 1px);clip: rect(1px, 1px, 1px, 1px);height: 1px;margin: -1px;overflow: hidden;padding: 0;position: absolute;width: 1px;}#sk-container-id-1 div.sk-estimator {font-family: monospace;background-color: #f0f8ff;border: 1px dotted black;border-radius: 0.25em;box-sizing: border-box;margin-bottom: 0.5em;}#sk-container-id-1 div.sk-estimator:hover {background-color: #d4ebff;}#sk-container-id-1 div.sk-parallel-item::after {content: \"\";width: 100%;border-bottom: 1px solid gray;flex-grow: 1;}#sk-container-id-1 div.sk-label:hover label.sk-toggleable__label {background-color: #d4ebff;}#sk-container-id-1 div.sk-serial::before {content: \"\";position: absolute;border-left: 1px solid gray;box-sizing: border-box;top: 0;bottom: 0;left: 50%;z-index: 0;}#sk-container-id-1 div.sk-serial {display: flex;flex-direction: column;align-items: center;background-color: white;padding-right: 0.2em;padding-left: 0.2em;position: relative;}#sk-container-id-1 div.sk-item {position: relative;z-index: 1;}#sk-container-id-1 div.sk-parallel {display: flex;align-items: stretch;justify-content: center;background-color: white;position: relative;}#sk-container-id-1 div.sk-item::before, #sk-container-id-1 div.sk-parallel-item::before {content: \"\";position: absolute;border-left: 1px solid gray;box-sizing: border-box;top: 0;bottom: 0;left: 50%;z-index: -1;}#sk-container-id-1 div.sk-parallel-item {display: flex;flex-direction: column;z-index: 1;position: relative;background-color: white;}#sk-container-id-1 div.sk-parallel-item:first-child::after {align-self: flex-end;width: 50%;}#sk-container-id-1 div.sk-parallel-item:last-child::after {align-self: flex-start;width: 50%;}#sk-container-id-1 div.sk-parallel-item:only-child::after {width: 0;}#sk-container-id-1 div.sk-dashed-wrapped {border: 1px dashed gray;margin: 0 0.4em 0.5em 0.4em;box-sizing: border-box;padding-bottom: 0.4em;background-color: white;}#sk-container-id-1 div.sk-label label {font-family: monospace;font-weight: bold;display: inline-block;line-height: 1.2em;}#sk-container-id-1 div.sk-label-container {text-align: center;}#sk-container-id-1 div.sk-container {/* jupyter's `normalize.less` sets `[hidden] { display: none; }` but bootstrap.min.css set `[hidden] { display: none !important; }` so we also need the `!important` here to be able to override the default hidden behavior on the sphinx rendered scikit-learn.org. See: https://github.com/scikit-learn/scikit-learn/issues/21755 */display: inline-block !important;position: relative;}#sk-container-id-1 div.sk-text-repr-fallback {display: none;}</style><div id=\"sk-container-id-1\" class=\"sk-top-container\"><div class=\"sk-text-repr-fallback\"><pre>Pipeline(steps=[(&#x27;transformedtargetregressor&#x27;,\n                 TransformedTargetRegressor(regressor=Ridge(alpha=10)))])</pre><b>In a Jupyter environment, please rerun this cell to show the HTML representation or trust the notebook. <br />On GitHub, the HTML representation is unable to render, please try loading this page with nbviewer.org.</b></div><div class=\"sk-container\" hidden><div class=\"sk-item sk-dashed-wrapped\"><div class=\"sk-label-container\"><div class=\"sk-label sk-toggleable\"><input class=\"sk-toggleable__control sk-hidden--visually\" id=\"sk-estimator-id-1\" type=\"checkbox\" ><label for=\"sk-estimator-id-1\" class=\"sk-toggleable__label sk-toggleable__label-arrow\">Pipeline</label><div class=\"sk-toggleable__content\"><pre>Pipeline(steps=[(&#x27;transformedtargetregressor&#x27;,\n                 TransformedTargetRegressor(regressor=Ridge(alpha=10)))])</pre></div></div></div><div class=\"sk-serial\"><div class=\"sk-item sk-dashed-wrapped\"><div class=\"sk-label-container\"><div class=\"sk-label sk-toggleable\"><input class=\"sk-toggleable__control sk-hidden--visually\" id=\"sk-estimator-id-2\" type=\"checkbox\" ><label for=\"sk-estimator-id-2\" class=\"sk-toggleable__label sk-toggleable__label-arrow\">transformedtargetregressor: TransformedTargetRegressor</label><div class=\"sk-toggleable__content\"><pre>TransformedTargetRegressor(regressor=Ridge(alpha=10))</pre></div></div></div><div class=\"sk-parallel\"><div class=\"sk-parallel-item\"><div class=\"sk-item\"><div class=\"sk-label-container\"><div class=\"sk-label sk-toggleable\"><input class=\"sk-toggleable__control sk-hidden--visually\" id=\"sk-estimator-id-3\" type=\"checkbox\" ><label for=\"sk-estimator-id-3\" class=\"sk-toggleable__label sk-toggleable__label-arrow\">regressor: Ridge</label><div class=\"sk-toggleable__content\"><pre>Ridge(alpha=10)</pre></div></div></div><div class=\"sk-serial\"><div class=\"sk-item\"><div class=\"sk-estimator sk-toggleable\"><input class=\"sk-toggleable__control sk-hidden--visually\" id=\"sk-estimator-id-4\" type=\"checkbox\" ><label for=\"sk-estimator-id-4\" class=\"sk-toggleable__label sk-toggleable__label-arrow\">Ridge</label><div class=\"sk-toggleable__content\"><pre>Ridge(alpha=10)</pre></div></div></div></div></div></div></div></div></div></div></div></div>"
     },
     "execution_count": 24,
     "metadata": {},
     "output_type": "execute_result"
    }
   ],
   "source": [
    "target_regressor_model.fit(X_train,y_train)"
   ],
   "metadata": {
    "collapsed": false,
    "ExecuteTime": {
     "end_time": "2023-10-26T03:11:57.994064500Z",
     "start_time": "2023-10-26T03:11:57.962110400Z"
    }
   }
  },
  {
   "cell_type": "code",
   "execution_count": 25,
   "outputs": [
    {
     "name": "stdout",
     "output_type": "stream",
     "text": [
      "0.15000144982626884\n"
     ]
    }
   ],
   "source": [
    "orig_model_score = target_regressor_model.score(X_train, y_train)\n",
    "print(orig_model_score)"
   ],
   "metadata": {
    "collapsed": false,
    "ExecuteTime": {
     "end_time": "2023-10-26T03:11:58.625268Z",
     "start_time": "2023-10-26T03:11:58.605593100Z"
    }
   }
  },
  {
   "cell_type": "code",
   "execution_count": 26,
   "outputs": [],
   "source": [
    "from sklearn.inspection import permutation_importance\n",
    "\n",
    "scoring = ['r2', 'neg_mean_absolute_percentage_error', 'neg_mean_squared_error']\n",
    "r_multi = permutation_importance(target_regressor_model, X_test, y_test, n_repeats=30, random_state=0)"
   ],
   "metadata": {
    "collapsed": false,
    "ExecuteTime": {
     "end_time": "2023-10-26T03:12:00.713299600Z",
     "start_time": "2023-10-26T03:11:59.297800500Z"
    }
   }
  },
  {
   "cell_type": "code",
   "execution_count": 27,
   "outputs": [
    {
     "name": "stdout",
     "output_type": "stream",
     "text": [
      "[0.14955411 0.1491437  0.14999528 0.15001326 0.14925068 0.14834157\n",
      " 0.14975408 0.147183   0.14540842 0.14981605 0.14005564 0.14323422\n",
      " 0.02207701 0.08627617]\n"
     ]
    }
   ],
   "source": [
    "mean_square_diff= abs((orig_model_score - r_multi['importances_mean']))\n",
    "print(mean_square_diff)"
   ],
   "metadata": {
    "collapsed": false,
    "ExecuteTime": {
     "end_time": "2023-10-26T03:12:00.727922700Z",
     "start_time": "2023-10-26T03:12:00.715297Z"
    }
   }
  },
  {
   "cell_type": "code",
   "execution_count": 28,
   "outputs": [
    {
     "data": {
      "text/plain": "([0, 1, 2, 3, 4, 5, 6, 7, 8, 9, 10, 11, 12, 13],\n [Text(0, 0, 'clean'),\n  Text(1, 0, 'lien'),\n  Text(2, 0, 'missing'),\n  Text(3, 0, 'parts only'),\n  Text(4, 0, 'rebuilt'),\n  Text(5, 0, 'salvage'),\n  Text(6, 0, 'condition_salvage'),\n  Text(7, 0, 'excellent'),\n  Text(8, 0, 'fair'),\n  Text(9, 0, 'good'),\n  Text(10, 0, 'like new'),\n  Text(11, 0, 'new'),\n  Text(12, 0, 'year'),\n  Text(13, 0, 'odometer')])"
     },
     "execution_count": 28,
     "metadata": {},
     "output_type": "execute_result"
    },
    {
     "data": {
      "text/plain": "<Figure size 640x480 with 1 Axes>",
      "image/png": "[encoded data removed]"
     },
     "metadata": {},
     "output_type": "display_data"
    }
   ],
   "source": [
    "from matplotlib import pyplot as plt\n",
    "\n",
    "plt.bar(X.columns,mean_square_diff, label=\"Permutation Importance\")\n",
    "plt.legend()\n",
    "\n",
    "# The following commands add labels to our figure.\n",
    "plt.xlabel('Features')\n",
    "plt.ylabel('change in model score')\n",
    "plt.title('Permutation Importance')\n",
    "plt.xticks(rotation=90)"
   ],
   "metadata": {
    "collapsed": false,
    "ExecuteTime": {
     "end_time": "2023-10-26T03:12:01.914176200Z",
     "start_time": "2023-10-26T03:12:01.550372600Z"
    }
   }
  },
  {
   "cell_type": "code",
   "execution_count": null,
   "outputs": [],
   "source": [],
   "metadata": {
    "collapsed": false
   }
  },
  {
   "cell_type": "code",
   "execution_count": null,
   "outputs": [],
   "source": [],
   "metadata": {
    "collapsed": false
   }
  },
  {
   "cell_type": "code",
   "execution_count": null,
   "outputs": [],
   "source": [],
   "metadata": {
    "collapsed": false
   }
  },
  {
   "cell_type": "code",
   "execution_count": null,
   "outputs": [],
   "source": [],
   "metadata": {
    "collapsed": false
   }
  },
  {
   "cell_type": "markdown",
   "metadata": {},
   "source": [
    "### Evaluation\n",
    "\n",
    "With some modeling accomplished, we aim to reflect on what we identify as a high quality model and what we are able to learn from this.  We should review our business objective and explore how well we can provide meaningful insight on drivers of used car prices.  Your goal now is to distill your findings and determine whether the earlier phases need revisitation and adjustment or if you have information of value to bring back to your client."
   ]
  },
  {
   "cell_type": "markdown",
   "source": [
    "Evaluate Results: Used both Sequential and Ridge Model to train and test the data. One objective is to look at the impact of features and as per the results, looks like title status and condition are the most important features. The other objective is to look at the impact of the model on the price of the car. "
   ],
   "metadata": {
    "collapsed": false
   }
  },
  {
   "cell_type": "markdown",
   "source": [
    "Review Process: Since we have some results, it is time to ask business stakeholders to review the results and provide feedback. We can also ask the stakeholders to provide more data if needed."
   ],
   "metadata": {
    "collapsed": false
   }
  },
  {
   "cell_type": "markdown",
   "source": [
    "Determine next steps: We can use the results to segment the market based on the price of the car and the features of the car. We can also use the results to improve the company's marketing and sales processes."
   ],
   "metadata": {
    "collapsed": false
   }
  },
  {
   "cell_type": "code",
   "execution_count": null,
   "metadata": {},
   "outputs": [],
   "source": []
  },
  {
   "cell_type": "code",
   "execution_count": null,
   "metadata": {},
   "outputs": [],
   "source": []
  },
  {
   "cell_type": "code",
   "execution_count": null,
   "metadata": {},
   "outputs": [],
   "source": []
  },
  {
   "cell_type": "markdown",
   "metadata": {},
   "source": [
    "### Deployment\n",
    "\n",
    "Now that we've settled on our models and findings, it is time to deliver the information to the client.  You should organize your work as a basic report that details your primary findings.  Keep in mind that your audience is a group of used car dealers interested in fine tuning their inventory."
   ]
  },
  {
   "cell_type": "markdown",
   "source": [
    "Plan Development: Now ask the used car dealers to develop a plan to implement the recommendations."
   ],
   "metadata": {
    "collapsed": false
   }
  },
  {
   "cell_type": "markdown",
   "source": [
    "Plan Monitoring and Maintenance: Develop a plan to monitor the model and maintain the model. This may include monitoring the model for accuracy and retraining the model if needed."
   ],
   "metadata": {
    "collapsed": false
   }
  },
  {
   "cell_type": "markdown",
   "source": [
    "Produce Final Report: Business should focus more the condition, less mileage and the title status of the car. The business should also focus on the year of the car. "
   ],
   "metadata": {
    "collapsed": false
   }
  },
  {
   "cell_type": "code",
   "execution_count": null,
   "metadata": {},
   "outputs": [],
   "source": []
  },
  {
   "cell_type": "code",
   "execution_count": null,
   "metadata": {},
   "outputs": [],
   "source": []
  },
  {
   "cell_type": "code",
   "execution_count": null,
   "metadata": {},
   "outputs": [],
   "source": []
  },
  {
   "cell_type": "code",
   "execution_count": null,
   "metadata": {},
   "outputs": [],
   "source": []
  }
 ],
 "metadata": {
  "kernelspec": {
   "display_name": "Python 3",
   "language": "python",
   "name": "python3"
  },
  "language_info": {
   "codemirror_mode": {
    "name": "ipython",
    "version": 3
   },
   "file_extension": ".py",
   "mimetype": "text/x-python",
   "name": "python",
   "nbconvert_exporter": "python",
   "pygments_lexer": "ipython3",
   "version": "3.8.8"
  },
  "widgets": {
   "application/vnd.jupyter.widget-state+json": {
    "state": {},
    "version_major": 2,
    "version_minor": 0
   }
  }
 },
 "nbformat": 4,
 "nbformat_minor": 4
}
